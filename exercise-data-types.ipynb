{
 "cells": [
  {
   "cell_type": "markdown",
   "id": "94a77800",
   "metadata": {
    "papermill": {
     "duration": 0.006241,
     "end_time": "2025-02-26T09:31:12.009854",
     "exception": false,
     "start_time": "2025-02-26T09:31:12.003613",
     "status": "completed"
    },
    "tags": []
   },
   "source": [
    "**This notebook is an exercise in the [Intro to Programming](https://www.kaggle.com/learn/intro-to-programming) course.  You can reference the tutorial at [this link](https://www.kaggle.com/alexisbcook/data-types).**\n",
    "\n",
    "---\n"
   ]
  },
  {
   "cell_type": "markdown",
   "id": "f060fbe5",
   "metadata": {
    "papermill": {
     "duration": 0.004833,
     "end_time": "2025-02-26T09:31:12.019869",
     "exception": false,
     "start_time": "2025-02-26T09:31:12.015036",
     "status": "completed"
    },
    "tags": []
   },
   "source": [
    "In the tutorial, you learned about four different data types: floats, integers, strings, and booleans.  In this exercise, you'll experiment with them.\n",
    "\n",
    "# Set up the notebook\n",
    "\n",
    "Run the next code cell without changes to set up the notebook."
   ]
  },
  {
   "cell_type": "code",
   "execution_count": 1,
   "id": "b6fb2f61",
   "metadata": {
    "execution": {
     "iopub.execute_input": "2025-02-26T09:31:12.031141Z",
     "iopub.status.busy": "2025-02-26T09:31:12.030763Z",
     "iopub.status.idle": "2025-02-26T09:31:12.967364Z",
     "shell.execute_reply": "2025-02-26T09:31:12.966228Z"
    },
    "papermill": {
     "duration": 0.944355,
     "end_time": "2025-02-26T09:31:12.969146",
     "exception": false,
     "start_time": "2025-02-26T09:31:12.024791",
     "status": "completed"
    },
    "tags": []
   },
   "outputs": [
    {
     "name": "stdout",
     "output_type": "stream",
     "text": [
      "Setup complete.\n"
     ]
    }
   ],
   "source": [
    "# Set up the exercise\n",
    "from learntools.core import binder\n",
    "binder.bind(globals())\n",
    "from learntools.intro_to_programming.ex3 import *\n",
    "print('Setup complete.')"
   ]
  },
  {
   "cell_type": "markdown",
   "id": "8b0514ea",
   "metadata": {
    "papermill": {
     "duration": 0.004918,
     "end_time": "2025-02-26T09:31:12.979573",
     "exception": false,
     "start_time": "2025-02-26T09:31:12.974655",
     "status": "completed"
    },
    "tags": []
   },
   "source": [
    "# Question 1\n",
    "\n",
    "You have seen how to convert a float to an integer with the `int` function.  Try this out yourself by running the code cell below."
   ]
  },
  {
   "cell_type": "code",
   "execution_count": 2,
   "id": "322f103b",
   "metadata": {
    "execution": {
     "iopub.execute_input": "2025-02-26T09:31:12.991264Z",
     "iopub.status.busy": "2025-02-26T09:31:12.990796Z",
     "iopub.status.idle": "2025-02-26T09:31:12.997029Z",
     "shell.execute_reply": "2025-02-26T09:31:12.995969Z"
    },
    "papermill": {
     "duration": 0.013949,
     "end_time": "2025-02-26T09:31:12.998650",
     "exception": false,
     "start_time": "2025-02-26T09:31:12.984701",
     "status": "completed"
    },
    "tags": []
   },
   "outputs": [
    {
     "name": "stdout",
     "output_type": "stream",
     "text": [
      "1.0\n",
      "<class 'float'>\n",
      "1\n",
      "<class 'int'>\n"
     ]
    }
   ],
   "source": [
    "# Define a float\n",
    "y = 1.\n",
    "print(y)\n",
    "print(type(y))\n",
    "\n",
    "# Convert float to integer with the int function\n",
    "z = int(y)\n",
    "print(z)\n",
    "print(type(z))"
   ]
  },
  {
   "cell_type": "markdown",
   "id": "7edeaf50",
   "metadata": {
    "papermill": {
     "duration": 0.004933,
     "end_time": "2025-02-26T09:31:13.008998",
     "exception": false,
     "start_time": "2025-02-26T09:31:13.004065",
     "status": "completed"
    },
    "tags": []
   },
   "source": [
    "In this case, the float you are using has no numbers after the decimal.  \n",
    "- But what happens when you try to convert a float with a fractional part to an integer?  \n",
    "- How does the outcome of the `int` function change for positive and negative numbers?\n",
    "\n",
    "Use the next code cell to investigate and answer these questions.  Feel free to add or remove any lines of code -- it is your workspace!"
   ]
  },
  {
   "cell_type": "code",
   "execution_count": 3,
   "id": "c304a93e",
   "metadata": {
    "execution": {
     "iopub.execute_input": "2025-02-26T09:31:13.020628Z",
     "iopub.status.busy": "2025-02-26T09:31:13.020249Z",
     "iopub.status.idle": "2025-02-26T09:31:13.026154Z",
     "shell.execute_reply": "2025-02-26T09:31:13.025168Z"
    },
    "papermill": {
     "duration": 0.013329,
     "end_time": "2025-02-26T09:31:13.027588",
     "exception": false,
     "start_time": "2025-02-26T09:31:13.014259",
     "status": "completed"
    },
    "tags": []
   },
   "outputs": [
    {
     "name": "stdout",
     "output_type": "stream",
     "text": [
      "1\n",
      "1\n",
      "-3\n",
      "-2\n"
     ]
    }
   ],
   "source": [
    "# Uncomment and run this code to get started!\n",
    "print(int(1.2321))\n",
    "print(int(1.747))\n",
    "print(int(-3.94535))\n",
    "print(int(-2.19774))"
   ]
  },
  {
   "cell_type": "markdown",
   "id": "248bc812",
   "metadata": {
    "papermill": {
     "duration": 0.005173,
     "end_time": "2025-02-26T09:31:13.038273",
     "exception": false,
     "start_time": "2025-02-26T09:31:13.033100",
     "status": "completed"
    },
    "tags": []
   },
   "source": [
    "Once you have an answer, run the code cell below to see the solution.  Viewing the solution will give you credit for answering the problem."
   ]
  },
  {
   "cell_type": "code",
   "execution_count": 4,
   "id": "351f4e7d",
   "metadata": {
    "execution": {
     "iopub.execute_input": "2025-02-26T09:31:13.050036Z",
     "iopub.status.busy": "2025-02-26T09:31:13.049693Z",
     "iopub.status.idle": "2025-02-26T09:31:13.057358Z",
     "shell.execute_reply": "2025-02-26T09:31:13.056511Z"
    },
    "papermill": {
     "duration": 0.015324,
     "end_time": "2025-02-26T09:31:13.058877",
     "exception": false,
     "start_time": "2025-02-26T09:31:13.043553",
     "status": "completed"
    },
    "tags": []
   },
   "outputs": [
    {
     "data": {
      "application/javascript": [
       "parent.postMessage({\"jupyterEvent\": \"custom.exercise_interaction\", \"data\": {\"outcomeType\": 1, \"valueTowardsCompletion\": 0.2, \"interactionType\": 1, \"questionType\": 4, \"questionId\": \"1_FloatToInt\", \"learnToolsVersion\": \"0.3.4\", \"failureMessage\": \"\", \"exceptionClass\": \"\", \"trace\": \"\"}}, \"*\")"
      ],
      "text/plain": [
       "<IPython.core.display.Javascript object>"
      ]
     },
     "metadata": {},
     "output_type": "display_data"
    },
    {
     "data": {
      "text/markdown": [
       "<span style=\"color:#33cc33\">Correct:</span> \n",
       "\n",
       "Negative floats are always rounded UP to the closest integer (for instance, both -1.1 and -1.9 are rounded up to -1). Positive floats are always rounded DOWN to the closest integer (for instance, 2.1 and 2.9 are rounded down to 2)."
      ],
      "text/plain": [
       "Correct: \n",
       "\n",
       "Negative floats are always rounded UP to the closest integer (for instance, both -1.1 and -1.9 are rounded up to -1). Positive floats are always rounded DOWN to the closest integer (for instance, 2.1 and 2.9 are rounded down to 2)."
      ]
     },
     "metadata": {},
     "output_type": "display_data"
    }
   ],
   "source": [
    "# Check your answer (Run this code cell to receive credit!)\n",
    "q1.check()"
   ]
  },
  {
   "cell_type": "markdown",
   "id": "39fe3c29",
   "metadata": {
    "papermill": {
     "duration": 0.005275,
     "end_time": "2025-02-26T09:31:13.070047",
     "exception": false,
     "start_time": "2025-02-26T09:31:13.064772",
     "status": "completed"
    },
    "tags": []
   },
   "source": [
    "# Question 2\n",
    "\n",
    "In the tutorial, you learned about booleans (which can take a value of `True` or `False`), in addition to integers, floats, and strings.  For this question, your goal is to determine what happens when you multiply a boolean by any of these data types.  Specifically, \n",
    "- What happens when you multiply an integer or float by `True`?  What happens when you multiply them by `False`?  How does the answer change if the numbers are positive or negative?\n",
    "- What happens when you multiply a string by `True`?  By `False`?\n",
    "\n",
    "Use the next code cell for your investigation. "
   ]
  },
  {
   "cell_type": "code",
   "execution_count": 5,
   "id": "1b53460c",
   "metadata": {
    "execution": {
     "iopub.execute_input": "2025-02-26T09:31:13.082406Z",
     "iopub.status.busy": "2025-02-26T09:31:13.082086Z",
     "iopub.status.idle": "2025-02-26T09:31:13.087849Z",
     "shell.execute_reply": "2025-02-26T09:31:13.086861Z"
    },
    "papermill": {
     "duration": 0.013816,
     "end_time": "2025-02-26T09:31:13.089459",
     "exception": false,
     "start_time": "2025-02-26T09:31:13.075643",
     "status": "completed"
    },
    "tags": []
   },
   "outputs": [
    {
     "name": "stdout",
     "output_type": "stream",
     "text": [
      "3\n",
      "-3.1\n",
      "<class 'str'>\n",
      "0\n"
     ]
    }
   ],
   "source": [
    "# Uncomment and run this code to get started!\n",
    "print(3 * True)\n",
    "print(-3.1 * True)\n",
    "print(type(\"abc\" * False))\n",
    "print(len(\"abc\" * False))"
   ]
  },
  {
   "cell_type": "markdown",
   "id": "fb8886fc",
   "metadata": {
    "papermill": {
     "duration": 0.005409,
     "end_time": "2025-02-26T09:31:13.100715",
     "exception": false,
     "start_time": "2025-02-26T09:31:13.095306",
     "status": "completed"
    },
    "tags": []
   },
   "source": [
    "Once you have an answer, run the code cell below to see the solution.  Viewing the solution will give you credit for answering the problem."
   ]
  },
  {
   "cell_type": "code",
   "execution_count": 6,
   "id": "ef02a74d",
   "metadata": {
    "execution": {
     "iopub.execute_input": "2025-02-26T09:31:13.113110Z",
     "iopub.status.busy": "2025-02-26T09:31:13.112784Z",
     "iopub.status.idle": "2025-02-26T09:31:13.119670Z",
     "shell.execute_reply": "2025-02-26T09:31:13.118764Z"
    },
    "papermill": {
     "duration": 0.014914,
     "end_time": "2025-02-26T09:31:13.121263",
     "exception": false,
     "start_time": "2025-02-26T09:31:13.106349",
     "status": "completed"
    },
    "tags": []
   },
   "outputs": [
    {
     "data": {
      "application/javascript": [
       "parent.postMessage({\"jupyterEvent\": \"custom.exercise_interaction\", \"data\": {\"outcomeType\": 1, \"valueTowardsCompletion\": 0.2, \"interactionType\": 1, \"questionType\": 4, \"questionId\": \"2_MultiplyBooleans\", \"learnToolsVersion\": \"0.3.4\", \"failureMessage\": \"\", \"exceptionClass\": \"\", \"trace\": \"\"}}, \"*\")"
      ],
      "text/plain": [
       "<IPython.core.display.Javascript object>"
      ]
     },
     "metadata": {},
     "output_type": "display_data"
    },
    {
     "data": {
      "text/markdown": [
       "<span style=\"color:#33cc33\">Correct:</span> \n",
       "\n",
       "When you multiple an integer or float by a boolean with value `True`, it just returns that same integer or float (and is equivalent to multiplying by 1).  If you multiply an integer or float by a boolean with value `False`, it always returns 0.  This is true for both positive and negative numbers.  If you multiply a string by a boolean with value `True`, it just returns that same string.  And if you multiply a string by a boolean with value `False`, it returns an empty string (or a string with length zero)."
      ],
      "text/plain": [
       "Correct: \n",
       "\n",
       "When you multiple an integer or float by a boolean with value `True`, it just returns that same integer or float (and is equivalent to multiplying by 1).  If you multiply an integer or float by a boolean with value `False`, it always returns 0.  This is true for both positive and negative numbers.  If you multiply a string by a boolean with value `True`, it just returns that same string.  And if you multiply a string by a boolean with value `False`, it returns an empty string (or a string with length zero)."
      ]
     },
     "metadata": {},
     "output_type": "display_data"
    }
   ],
   "source": [
    "# Check your answer (Run this code cell to receive credit!)\n",
    "q2.check()"
   ]
  },
  {
   "cell_type": "markdown",
   "id": "57500709",
   "metadata": {
    "papermill": {
     "duration": 0.005597,
     "end_time": "2025-02-26T09:31:13.132941",
     "exception": false,
     "start_time": "2025-02-26T09:31:13.127344",
     "status": "completed"
    },
    "tags": []
   },
   "source": [
    "# Question 3\n",
    "\n",
    "In this question, you will build off your work from the previous exercise to write a function that estimates the value of a house.\n",
    "\n",
    "Use the next code cell to create a function `get_expected_cost` that takes as input three variables:\n",
    "- `beds` - number of bedrooms (data type float)\n",
    "- `baths` - number of bathrooms (data type float)\n",
    "- `has_basement` - whether or not the house has a basement (data type boolean)\n",
    "\n",
    "It should return the expected cost of a house with those characteristics. Assume that:\n",
    "- the expected cost for a house with 0 bedrooms and 0 bathrooms, and no basement is 80000, \n",
    "- each bedroom adds 30000 to the expected cost,\n",
    "- each bathroom adds 10000 to the expected cost, and\n",
    "- a basement adds 40000 to the expected cost.\n",
    "\n",
    "For instance,\n",
    "- a house with 1 bedroom, 1 bathroom, and no basement has an expected cost of 80000 + 30000 + 10000 = 120000.  This value will be calculated with `get_expected_cost(1, 1, False)`.\n",
    "- a house with 2 bedrooms, 1 bathroom, and a basement has an expected cost of 80000 + 2*30000 + 10000 + 40000 = 190000.  This value will be calculated with `get_expected_cost(2, 1, True)`.\n",
    "\n",
    "Remember you can always get a hint by uncommenting `q3.hint()` in the code cell following the next!"
   ]
  },
  {
   "cell_type": "code",
   "execution_count": 7,
   "id": "32759a58",
   "metadata": {
    "execution": {
     "iopub.execute_input": "2025-02-26T09:31:13.145993Z",
     "iopub.status.busy": "2025-02-26T09:31:13.145652Z",
     "iopub.status.idle": "2025-02-26T09:31:13.153320Z",
     "shell.execute_reply": "2025-02-26T09:31:13.152314Z"
    },
    "papermill": {
     "duration": 0.015974,
     "end_time": "2025-02-26T09:31:13.154848",
     "exception": false,
     "start_time": "2025-02-26T09:31:13.138874",
     "status": "completed"
    },
    "tags": []
   },
   "outputs": [
    {
     "data": {
      "application/javascript": [
       "parent.postMessage({\"jupyterEvent\": \"custom.exercise_interaction\", \"data\": {\"outcomeType\": 1, \"valueTowardsCompletion\": 0.2, \"interactionType\": 1, \"questionType\": 2, \"questionId\": \"3_EstimateHouseValueBool\", \"learnToolsVersion\": \"0.3.4\", \"failureMessage\": \"\", \"exceptionClass\": \"\", \"trace\": \"\"}}, \"*\")"
      ],
      "text/plain": [
       "<IPython.core.display.Javascript object>"
      ]
     },
     "metadata": {},
     "output_type": "display_data"
    },
    {
     "data": {
      "text/markdown": [
       "<span style=\"color:#33cc33\">Correct</span>"
      ],
      "text/plain": [
       "Correct"
      ]
     },
     "metadata": {},
     "output_type": "display_data"
    }
   ],
   "source": [
    "# TODO: Complete the function\n",
    "def get_expected_cost(beds, baths, has_basement):\n",
    "    value = beds* 30000+ baths* 10000+ has_basement* 40000+ 80000\n",
    "    return value\n",
    "\n",
    "# Check your answer \n",
    "q3.check()"
   ]
  },
  {
   "cell_type": "code",
   "execution_count": 8,
   "id": "c1caab99",
   "metadata": {
    "execution": {
     "iopub.execute_input": "2025-02-26T09:31:13.168575Z",
     "iopub.status.busy": "2025-02-26T09:31:13.168193Z",
     "iopub.status.idle": "2025-02-26T09:31:13.171947Z",
     "shell.execute_reply": "2025-02-26T09:31:13.170942Z"
    },
    "papermill": {
     "duration": 0.012456,
     "end_time": "2025-02-26T09:31:13.173672",
     "exception": false,
     "start_time": "2025-02-26T09:31:13.161216",
     "status": "completed"
    },
    "tags": []
   },
   "outputs": [],
   "source": [
    "# Uncomment to see a hint\n",
    "#q3.hint()\n",
    "\n",
    "# Uncomment to view the solution\n",
    "#q3.solution()"
   ]
  },
  {
   "cell_type": "markdown",
   "id": "17e30767",
   "metadata": {
    "papermill": {
     "duration": 0.005765,
     "end_time": "2025-02-26T09:31:13.185611",
     "exception": false,
     "start_time": "2025-02-26T09:31:13.179846",
     "status": "completed"
    },
    "tags": []
   },
   "source": [
    "# Question 4\n",
    "\n",
    "We'll continue our study of boolean arithmetic.  For this question, your task is to provide a description of what happpens when you add booleans. \n",
    "\n",
    "Use the next code cell for your investigation.  Feel free to add or remove any lines of code - use it as your workspace!"
   ]
  },
  {
   "cell_type": "code",
   "execution_count": 9,
   "id": "8fb0c6b6",
   "metadata": {
    "execution": {
     "iopub.execute_input": "2025-02-26T09:31:13.198934Z",
     "iopub.status.busy": "2025-02-26T09:31:13.198561Z",
     "iopub.status.idle": "2025-02-26T09:31:13.204499Z",
     "shell.execute_reply": "2025-02-26T09:31:13.203503Z"
    },
    "papermill": {
     "duration": 0.014422,
     "end_time": "2025-02-26T09:31:13.206125",
     "exception": false,
     "start_time": "2025-02-26T09:31:13.191703",
     "status": "completed"
    },
    "tags": []
   },
   "outputs": [
    {
     "name": "stdout",
     "output_type": "stream",
     "text": [
      "0\n",
      "1\n",
      "1\n",
      "2\n",
      "3\n"
     ]
    }
   ],
   "source": [
    "print(False + False)\n",
    "print(True + False)\n",
    "print(False + True)\n",
    "print(True + True)\n",
    "print(False + True + True + True)"
   ]
  },
  {
   "cell_type": "markdown",
   "id": "c82a7671",
   "metadata": {
    "papermill": {
     "duration": 0.006019,
     "end_time": "2025-02-26T09:31:13.218517",
     "exception": false,
     "start_time": "2025-02-26T09:31:13.212498",
     "status": "completed"
    },
    "tags": []
   },
   "source": [
    "Once you have an answer, run the code cell below to see the solution.  Viewing the solution will give you credit for answering the problem."
   ]
  },
  {
   "cell_type": "code",
   "execution_count": 10,
   "id": "1f01dbb2",
   "metadata": {
    "execution": {
     "iopub.execute_input": "2025-02-26T09:31:13.232259Z",
     "iopub.status.busy": "2025-02-26T09:31:13.231930Z",
     "iopub.status.idle": "2025-02-26T09:31:13.238655Z",
     "shell.execute_reply": "2025-02-26T09:31:13.237772Z"
    },
    "papermill": {
     "duration": 0.015224,
     "end_time": "2025-02-26T09:31:13.240105",
     "exception": false,
     "start_time": "2025-02-26T09:31:13.224881",
     "status": "completed"
    },
    "tags": []
   },
   "outputs": [
    {
     "data": {
      "application/javascript": [
       "parent.postMessage({\"jupyterEvent\": \"custom.exercise_interaction\", \"data\": {\"outcomeType\": 1, \"valueTowardsCompletion\": 0.2, \"interactionType\": 1, \"questionType\": 4, \"questionId\": \"4_AddingBooleans\", \"learnToolsVersion\": \"0.3.4\", \"failureMessage\": \"\", \"exceptionClass\": \"\", \"trace\": \"\"}}, \"*\")"
      ],
      "text/plain": [
       "<IPython.core.display.Javascript object>"
      ]
     },
     "metadata": {},
     "output_type": "display_data"
    },
    {
     "data": {
      "text/markdown": [
       "<span style=\"color:#33cc33\">Correct:</span> \n",
       "\n",
       "When you add booleans, adding `False` is equivalent to adding 0, and adding `True` is equivalent to adding 1."
      ],
      "text/plain": [
       "Correct: \n",
       "\n",
       "When you add booleans, adding `False` is equivalent to adding 0, and adding `True` is equivalent to adding 1."
      ]
     },
     "metadata": {},
     "output_type": "display_data"
    }
   ],
   "source": [
    "# Check your answer (Run this code cell to receive credit!)\n",
    "q4.check()"
   ]
  },
  {
   "cell_type": "markdown",
   "id": "b8e1a999",
   "metadata": {
    "papermill": {
     "duration": 0.006126,
     "end_time": "2025-02-26T09:31:13.252682",
     "exception": false,
     "start_time": "2025-02-26T09:31:13.246556",
     "status": "completed"
    },
    "tags": []
   },
   "source": [
    "# 🌶️ Question 5\n",
    "\n",
    "You own an online shop where you sell rings with custom engravings.  You offer both gold plated and solid gold rings.\n",
    "- Gold plated rings have a base cost of \\\\$50, and you charge \\\\$7 per engraved unit.  \n",
    "- Solid gold rings have a base cost of \\\\$100, and you charge \\\\$10 per engraved unit.\n",
    "- Spaces and punctuation are counted as engraved units.\n",
    "\n",
    "Write a function `cost_of_project()` that takes two arguments:\n",
    "- `engraving` - a Python string with the text of the engraving\n",
    "- `solid_gold` - a Boolean that indicates whether the ring is solid gold\n",
    "\n",
    "It should return the cost of the project.  This question should be fairly challenging, and you may need a hint."
   ]
  },
  {
   "cell_type": "code",
   "execution_count": 11,
   "id": "8b41a87f",
   "metadata": {
    "execution": {
     "iopub.execute_input": "2025-02-26T09:31:13.266334Z",
     "iopub.status.busy": "2025-02-26T09:31:13.266011Z",
     "iopub.status.idle": "2025-02-26T09:31:13.273534Z",
     "shell.execute_reply": "2025-02-26T09:31:13.272671Z"
    },
    "papermill": {
     "duration": 0.016224,
     "end_time": "2025-02-26T09:31:13.275109",
     "exception": false,
     "start_time": "2025-02-26T09:31:13.258885",
     "status": "completed"
    },
    "tags": []
   },
   "outputs": [
    {
     "data": {
      "application/javascript": [
       "parent.postMessage({\"jupyterEvent\": \"custom.exercise_interaction\", \"data\": {\"outcomeType\": 1, \"valueTowardsCompletion\": 0.2, \"interactionType\": 1, \"questionType\": 2, \"questionId\": \"5_CustomEngravings\", \"learnToolsVersion\": \"0.3.4\", \"failureMessage\": \"\", \"exceptionClass\": \"\", \"trace\": \"\"}}, \"*\")"
      ],
      "text/plain": [
       "<IPython.core.display.Javascript object>"
      ]
     },
     "metadata": {},
     "output_type": "display_data"
    },
    {
     "data": {
      "text/markdown": [
       "<span style=\"color:#33cc33\">Correct</span>"
      ],
      "text/plain": [
       "Correct"
      ]
     },
     "metadata": {},
     "output_type": "display_data"
    }
   ],
   "source": [
    "def cost_of_project(engraving, solid_gold):\n",
    "    cost = (solid_gold)* (100+ len(engraving)* 10)+ (not solid_gold)* (50+ len(engraving)* 7)\n",
    "    return cost\n",
    "\n",
    "# Check your answer\n",
    "q5.check()"
   ]
  },
  {
   "cell_type": "code",
   "execution_count": 12,
   "id": "9211beec",
   "metadata": {
    "execution": {
     "iopub.execute_input": "2025-02-26T09:31:13.290159Z",
     "iopub.status.busy": "2025-02-26T09:31:13.289803Z",
     "iopub.status.idle": "2025-02-26T09:31:13.299456Z",
     "shell.execute_reply": "2025-02-26T09:31:13.298501Z"
    },
    "papermill": {
     "duration": 0.018912,
     "end_time": "2025-02-26T09:31:13.301032",
     "exception": false,
     "start_time": "2025-02-26T09:31:13.282120",
     "status": "completed"
    },
    "tags": []
   },
   "outputs": [
    {
     "data": {
      "application/javascript": [
       "parent.postMessage({\"jupyterEvent\": \"custom.exercise_interaction\", \"data\": {\"interactionType\": 2, \"questionType\": 2, \"questionId\": \"5_CustomEngravings\", \"learnToolsVersion\": \"0.3.4\", \"valueTowardsCompletion\": 0.0, \"failureMessage\": \"\", \"exceptionClass\": \"\", \"trace\": \"\", \"outcomeType\": 4}}, \"*\")"
      ],
      "text/plain": [
       "<IPython.core.display.Javascript object>"
      ]
     },
     "metadata": {},
     "output_type": "display_data"
    },
    {
     "data": {
      "text/markdown": [
       "<span style=\"color:#3366cc\">Hint:</span> There are two options - either the project uses solid gold or does not.  With this in mind, you can structure your solution like this: `cost = solid_gold * ____ + (not solid_gold) * ____`.  You need to figure out how to fill in the blanks. Also, remember that:\n",
       "- If `solid_gold = True`, then `(not solid_gold) = False`, and if `solid_gold = False`, then `(not solid_gold) = True`.\n",
       "- Multiplying an integer by `True` is equivalent to multiplying it by 1, and multiplying an integer by `False` is equivalent to multiplying it by 0."
      ],
      "text/plain": [
       "Hint: There are two options - either the project uses solid gold or does not.  With this in mind, you can structure your solution like this: `cost = solid_gold * ____ + (not solid_gold) * ____`.  You need to figure out how to fill in the blanks. Also, remember that:\n",
       "- If `solid_gold = True`, then `(not solid_gold) = False`, and if `solid_gold = False`, then `(not solid_gold) = True`.\n",
       "- Multiplying an integer by `True` is equivalent to multiplying it by 1, and multiplying an integer by `False` is equivalent to multiplying it by 0."
      ]
     },
     "metadata": {},
     "output_type": "display_data"
    },
    {
     "data": {
      "application/javascript": [
       "parent.postMessage({\"jupyterEvent\": \"custom.exercise_interaction\", \"data\": {\"interactionType\": 3, \"questionType\": 2, \"questionId\": \"5_CustomEngravings\", \"learnToolsVersion\": \"0.3.4\", \"valueTowardsCompletion\": 0.0, \"failureMessage\": \"\", \"exceptionClass\": \"\", \"trace\": \"\", \"outcomeType\": 4}}, \"*\")"
      ],
      "text/plain": [
       "<IPython.core.display.Javascript object>"
      ]
     },
     "metadata": {},
     "output_type": "display_data"
    },
    {
     "data": {
      "text/markdown": [
       "<span style=\"color:#33cc99\">Solution:</span> \n",
       "```python\n",
       "def cost_of_project(engraving, solid_gold):\n",
       "    cost = solid_gold * (100 + 10 * len(engraving)) + (not solid_gold) * (50 + 7 * len(engraving))\n",
       "    return cost\n",
       "\n",
       "```"
      ],
      "text/plain": [
       "Solution: \n",
       "```python\n",
       "def cost_of_project(engraving, solid_gold):\n",
       "    cost = solid_gold * (100 + 10 * len(engraving)) + (not solid_gold) * (50 + 7 * len(engraving))\n",
       "    return cost\n",
       "\n",
       "```"
      ]
     },
     "metadata": {},
     "output_type": "display_data"
    }
   ],
   "source": [
    "# Uncomment to see a hint\n",
    "q5.hint()\n",
    "\n",
    "# Uncomment to view the solution\n",
    "q5.solution()"
   ]
  },
  {
   "cell_type": "markdown",
   "id": "6aebc1dc",
   "metadata": {
    "papermill": {
     "duration": 0.006837,
     "end_time": "2025-02-26T09:31:13.314958",
     "exception": false,
     "start_time": "2025-02-26T09:31:13.308121",
     "status": "completed"
    },
    "tags": []
   },
   "source": [
    "Run the next code cell to calculate the cost of engraving `Charlie+Denver` on a solid gold ring."
   ]
  },
  {
   "cell_type": "code",
   "execution_count": 13,
   "id": "42f225c5",
   "metadata": {
    "execution": {
     "iopub.execute_input": "2025-02-26T09:31:13.330291Z",
     "iopub.status.busy": "2025-02-26T09:31:13.329927Z",
     "iopub.status.idle": "2025-02-26T09:31:13.334262Z",
     "shell.execute_reply": "2025-02-26T09:31:13.333203Z"
    },
    "papermill": {
     "duration": 0.013934,
     "end_time": "2025-02-26T09:31:13.335892",
     "exception": false,
     "start_time": "2025-02-26T09:31:13.321958",
     "status": "completed"
    },
    "tags": []
   },
   "outputs": [
    {
     "name": "stdout",
     "output_type": "stream",
     "text": [
      "240\n"
     ]
    }
   ],
   "source": [
    "project_one = cost_of_project(\"Charlie+Denver\", True)\n",
    "print(project_one)"
   ]
  },
  {
   "cell_type": "markdown",
   "id": "86107971",
   "metadata": {
    "papermill": {
     "duration": 0.006903,
     "end_time": "2025-02-26T09:31:13.349948",
     "exception": false,
     "start_time": "2025-02-26T09:31:13.343045",
     "status": "completed"
    },
    "tags": []
   },
   "source": [
    "Use the next code cell to calculate the cost of engraving `08/10/2000` on a gold plated ring."
   ]
  },
  {
   "cell_type": "code",
   "execution_count": 14,
   "id": "b876e7f9",
   "metadata": {
    "execution": {
     "iopub.execute_input": "2025-02-26T09:31:13.365578Z",
     "iopub.status.busy": "2025-02-26T09:31:13.365174Z",
     "iopub.status.idle": "2025-02-26T09:31:13.370034Z",
     "shell.execute_reply": "2025-02-26T09:31:13.369065Z"
    },
    "papermill": {
     "duration": 0.014359,
     "end_time": "2025-02-26T09:31:13.371481",
     "exception": false,
     "start_time": "2025-02-26T09:31:13.357122",
     "status": "completed"
    },
    "tags": []
   },
   "outputs": [
    {
     "name": "stdout",
     "output_type": "stream",
     "text": [
      "120\n"
     ]
    }
   ],
   "source": [
    "project_two = cost_of_project(\"08/10/2000\", False)\n",
    "print(project_two)"
   ]
  },
  {
   "cell_type": "markdown",
   "id": "886ad40f",
   "metadata": {
    "papermill": {
     "duration": 0.006707,
     "end_time": "2025-02-26T09:31:13.385148",
     "exception": false,
     "start_time": "2025-02-26T09:31:13.378441",
     "status": "completed"
    },
    "tags": []
   },
   "source": [
    "# Keep going\n",
    "\n",
    "Continue to the next lesson to **[learn about conditions and conditional statements](https://www.kaggle.com/alexisbcook/conditions-and-conditional-statements)**."
   ]
  },
  {
   "cell_type": "markdown",
   "id": "b1beb548",
   "metadata": {
    "papermill": {
     "duration": 0.006601,
     "end_time": "2025-02-26T09:31:13.398759",
     "exception": false,
     "start_time": "2025-02-26T09:31:13.392158",
     "status": "completed"
    },
    "tags": []
   },
   "source": [
    "---\n",
    "\n",
    "\n",
    "\n",
    "\n",
    "*Have questions or comments? Visit the [course discussion forum](https://www.kaggle.com/learn/intro-to-programming/discussion) to chat with other learners.*"
   ]
  }
 ],
 "metadata": {
  "kaggle": {
   "accelerator": "none",
   "dataSources": [],
   "isGpuEnabled": false,
   "isInternetEnabled": false,
   "language": "python",
   "sourceType": "notebook"
  },
  "kernelspec": {
   "display_name": "Python 3",
   "language": "python",
   "name": "python3"
  },
  "language_info": {
   "codemirror_mode": {
    "name": "ipython",
    "version": 3
   },
   "file_extension": ".py",
   "mimetype": "text/x-python",
   "name": "python",
   "nbconvert_exporter": "python",
   "pygments_lexer": "ipython3",
   "version": "3.10.12"
  },
  "papermill": {
   "default_parameters": {},
   "duration": 4.692811,
   "end_time": "2025-02-26T09:31:13.925605",
   "environment_variables": {},
   "exception": null,
   "input_path": "__notebook__.ipynb",
   "output_path": "__notebook__.ipynb",
   "parameters": {},
   "start_time": "2025-02-26T09:31:09.232794",
   "version": "2.3.3"
  }
 },
 "nbformat": 4,
 "nbformat_minor": 5
}
