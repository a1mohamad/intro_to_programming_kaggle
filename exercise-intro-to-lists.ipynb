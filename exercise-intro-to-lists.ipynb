{
 "cells": [
  {
   "cell_type": "markdown",
   "id": "809ae01a",
   "metadata": {
    "papermill": {
     "duration": 0.005887,
     "end_time": "2025-02-26T10:02:48.662648",
     "exception": false,
     "start_time": "2025-02-26T10:02:48.656761",
     "status": "completed"
    },
    "tags": []
   },
   "source": [
    "**This notebook is an exercise in the [Intro to Programming](https://www.kaggle.com/learn/intro-to-programming) course.  You can reference the tutorial at [this link](https://www.kaggle.com/alexisbcook/intro-to-lists).**\n",
    "\n",
    "---\n"
   ]
  },
  {
   "cell_type": "markdown",
   "id": "d0b67c22",
   "metadata": {
    "papermill": {
     "duration": 0.004622,
     "end_time": "2025-02-26T10:02:48.672441",
     "exception": false,
     "start_time": "2025-02-26T10:02:48.667819",
     "status": "completed"
    },
    "tags": []
   },
   "source": [
    "In the tutorial, you learned how to define and modify Python lists.  In this exercise, you will use your new knowledge to solve several problems.\n",
    "\n",
    "# Set up the notebook\n",
    "\n",
    "Run the next code cell without changes to set up the notebook."
   ]
  },
  {
   "cell_type": "code",
   "execution_count": 1,
   "id": "c140ea93",
   "metadata": {
    "execution": {
     "iopub.execute_input": "2025-02-26T10:02:48.683510Z",
     "iopub.status.busy": "2025-02-26T10:02:48.683148Z",
     "iopub.status.idle": "2025-02-26T10:02:49.769440Z",
     "shell.execute_reply": "2025-02-26T10:02:49.768323Z"
    },
    "papermill": {
     "duration": 1.093705,
     "end_time": "2025-02-26T10:02:49.771039",
     "exception": false,
     "start_time": "2025-02-26T10:02:48.677334",
     "status": "completed"
    },
    "tags": []
   },
   "outputs": [
    {
     "name": "stdout",
     "output_type": "stream",
     "text": [
      "Setup complete.\n"
     ]
    }
   ],
   "source": [
    "from learntools.core import binder\n",
    "binder.bind(globals())\n",
    "from learntools.intro_to_programming.ex5 import *\n",
    "print('Setup complete.')"
   ]
  },
  {
   "cell_type": "markdown",
   "id": "d62a06d6",
   "metadata": {
    "papermill": {
     "duration": 0.004693,
     "end_time": "2025-02-26T10:02:49.781392",
     "exception": false,
     "start_time": "2025-02-26T10:02:49.776699",
     "status": "completed"
    },
    "tags": []
   },
   "source": [
    "# Question 1\n",
    "\n",
    "You own a restaurant with five food dishes, organized in the Python list `menu` below.  One day, you decide to:\n",
    "- remove bean soup (`'bean soup'`) from the menu, and\n",
    "- add roasted beet salad (`'roasted beet salad'`) to the menu.\n",
    "\n",
    "Implement this change to the list below.  While completing this task, \n",
    "- do not change the line that creates the `menu` list.  \n",
    "- your answer should use `.remove()` and `.append()`.  "
   ]
  },
  {
   "cell_type": "code",
   "execution_count": 2,
   "id": "32822a08",
   "metadata": {
    "execution": {
     "iopub.execute_input": "2025-02-26T10:02:49.792673Z",
     "iopub.status.busy": "2025-02-26T10:02:49.792158Z",
     "iopub.status.idle": "2025-02-26T10:02:49.800378Z",
     "shell.execute_reply": "2025-02-26T10:02:49.799473Z"
    },
    "papermill": {
     "duration": 0.015434,
     "end_time": "2025-02-26T10:02:49.801717",
     "exception": false,
     "start_time": "2025-02-26T10:02:49.786283",
     "status": "completed"
    },
    "tags": []
   },
   "outputs": [
    {
     "data": {
      "application/javascript": [
       "parent.postMessage({\"jupyterEvent\": \"custom.exercise_interaction\", \"data\": {\"outcomeType\": 1, \"valueTowardsCompletion\": 0.2, \"interactionType\": 1, \"questionType\": 2, \"questionId\": \"1_FoodMenu\", \"learnToolsVersion\": \"0.3.4\", \"failureMessage\": \"\", \"exceptionClass\": \"\", \"trace\": \"\"}}, \"*\")"
      ],
      "text/plain": [
       "<IPython.core.display.Javascript object>"
      ]
     },
     "metadata": {},
     "output_type": "display_data"
    },
    {
     "data": {
      "text/markdown": [
       "<span style=\"color:#33cc33\">Correct</span>"
      ],
      "text/plain": [
       "Correct"
      ]
     },
     "metadata": {},
     "output_type": "display_data"
    }
   ],
   "source": [
    "# Do not change: Initial menu for your restaurant\n",
    "menu = ['stewed meat with onions', 'bean soup', 'risotto with trout and shrimp',\n",
    "       'fish soup with cream and onion', 'gyro']\n",
    "\n",
    "# TODO: remove 'bean soup', and add 'roasted beet salad' to the end of the menu\n",
    "menu.remove('bean soup')\n",
    "menu.append('roasted beet salad')\n",
    "# Do not change: Check your answer\n",
    "q1.check()"
   ]
  },
  {
   "cell_type": "code",
   "execution_count": 3,
   "id": "226c8c70",
   "metadata": {
    "execution": {
     "iopub.execute_input": "2025-02-26T10:02:49.813557Z",
     "iopub.status.busy": "2025-02-26T10:02:49.813231Z",
     "iopub.status.idle": "2025-02-26T10:02:49.816931Z",
     "shell.execute_reply": "2025-02-26T10:02:49.815945Z"
    },
    "papermill": {
     "duration": 0.011481,
     "end_time": "2025-02-26T10:02:49.818591",
     "exception": false,
     "start_time": "2025-02-26T10:02:49.807110",
     "status": "completed"
    },
    "tags": []
   },
   "outputs": [],
   "source": [
    "# Uncomment to see a hint\n",
    "#q1.hint()\n",
    "\n",
    "# Uncomment to see the solution\n",
    "#q1.solution()"
   ]
  },
  {
   "cell_type": "markdown",
   "id": "487116c4",
   "metadata": {
    "papermill": {
     "duration": 0.005107,
     "end_time": "2025-02-26T10:02:49.829104",
     "exception": false,
     "start_time": "2025-02-26T10:02:49.823997",
     "status": "completed"
    },
    "tags": []
   },
   "source": [
    "# Question 2\n",
    "\n",
    "The list `num_customers` contains the number of customers who came into your restaurant every day over the last month (which lasted thirty days).  Fill in values for each of the following:\n",
    "- `avg_first_seven` - average number of customers who visited in the first seven days\n",
    "- `avg_last_seven` - average number of customers who visited in the last seven days\n",
    "- `max_month` - number of customers on the day that got the most customers in the last month\n",
    "- `min_month` - number of customers on the day that got the least customers in the last month\n",
    "\n",
    "Answer this question by writing code.  For instance, if you have to find the minimum value in a list, use `min()` instead of scanning for the smallest value and directly filling in a number."
   ]
  },
  {
   "cell_type": "code",
   "execution_count": 4,
   "id": "6109bc13",
   "metadata": {
    "execution": {
     "iopub.execute_input": "2025-02-26T10:02:49.840853Z",
     "iopub.status.busy": "2025-02-26T10:02:49.840505Z",
     "iopub.status.idle": "2025-02-26T10:02:49.848900Z",
     "shell.execute_reply": "2025-02-26T10:02:49.848066Z"
    },
    "papermill": {
     "duration": 0.016078,
     "end_time": "2025-02-26T10:02:49.850419",
     "exception": false,
     "start_time": "2025-02-26T10:02:49.834341",
     "status": "completed"
    },
    "tags": []
   },
   "outputs": [
    {
     "data": {
      "application/javascript": [
       "parent.postMessage({\"jupyterEvent\": \"custom.exercise_interaction\", \"data\": {\"outcomeType\": 1, \"valueTowardsCompletion\": 0.2, \"interactionType\": 1, \"questionType\": 1, \"questionId\": \"2_NumCustomers\", \"learnToolsVersion\": \"0.3.4\", \"failureMessage\": \"\", \"exceptionClass\": \"\", \"trace\": \"\"}}, \"*\")"
      ],
      "text/plain": [
       "<IPython.core.display.Javascript object>"
      ]
     },
     "metadata": {},
     "output_type": "display_data"
    },
    {
     "data": {
      "text/markdown": [
       "<span style=\"color:#33cc33\">Correct</span>"
      ],
      "text/plain": [
       "Correct"
      ]
     },
     "metadata": {},
     "output_type": "display_data"
    }
   ],
   "source": [
    "# Do not change: Number of customers each day for the last month\n",
    "num_customers = [137, 147, 135, 128, 170, 174, 165, 146, 126, 159,\n",
    "                 141, 148, 132, 147, 168, 153, 170, 161, 148, 152,\n",
    "                 141, 151, 131, 149, 164, 163, 143, 143, 166, 171]\n",
    "\n",
    "# TODO: Fill in values for the variables below\n",
    "avg_first_seven = sum(num_customers[: 7])/ 7 \n",
    "avg_last_seven = sum(num_customers[-7 :])/ 7 \n",
    "max_month = max(num_customers)\n",
    "min_month = min(num_customers)\n",
    "\n",
    "# Do not change: Check your answer\n",
    "q2.check()"
   ]
  },
  {
   "cell_type": "code",
   "execution_count": 5,
   "id": "80337c58",
   "metadata": {
    "execution": {
     "iopub.execute_input": "2025-02-26T10:02:49.862916Z",
     "iopub.status.busy": "2025-02-26T10:02:49.862560Z",
     "iopub.status.idle": "2025-02-26T10:02:49.866325Z",
     "shell.execute_reply": "2025-02-26T10:02:49.865372Z"
    },
    "papermill": {
     "duration": 0.011957,
     "end_time": "2025-02-26T10:02:49.867918",
     "exception": false,
     "start_time": "2025-02-26T10:02:49.855961",
     "status": "completed"
    },
    "tags": []
   },
   "outputs": [],
   "source": [
    "# Uncomment to see a hint\n",
    "#q2.hint()\n",
    "\n",
    "# Uncomment to see the solution\n",
    "#q2.solution()"
   ]
  },
  {
   "cell_type": "markdown",
   "id": "90709287",
   "metadata": {
    "papermill": {
     "duration": 0.005601,
     "end_time": "2025-02-26T10:02:49.879162",
     "exception": false,
     "start_time": "2025-02-26T10:02:49.873561",
     "status": "completed"
    },
    "tags": []
   },
   "source": [
    "# Question 3\n",
    "\n",
    "In the tutorial, we gave an example of a Python string with information that was better as a list."
   ]
  },
  {
   "cell_type": "code",
   "execution_count": 6,
   "id": "10f1b3f1",
   "metadata": {
    "execution": {
     "iopub.execute_input": "2025-02-26T10:02:49.892283Z",
     "iopub.status.busy": "2025-02-26T10:02:49.891867Z",
     "iopub.status.idle": "2025-02-26T10:02:49.895948Z",
     "shell.execute_reply": "2025-02-26T10:02:49.894992Z"
    },
    "papermill": {
     "duration": 0.012311,
     "end_time": "2025-02-26T10:02:49.897598",
     "exception": false,
     "start_time": "2025-02-26T10:02:49.885287",
     "status": "completed"
    },
    "tags": []
   },
   "outputs": [],
   "source": [
    "flowers = \"pink primrose,hard-leaved pocket orchid,canterbury bells,sweet pea,english marigold,tiger lily,moon orchid,bird of paradise,monkshood,globe thistle\""
   ]
  },
  {
   "cell_type": "markdown",
   "id": "53430ec2",
   "metadata": {
    "papermill": {
     "duration": 0.005599,
     "end_time": "2025-02-26T10:02:49.909100",
     "exception": false,
     "start_time": "2025-02-26T10:02:49.903501",
     "status": "completed"
    },
    "tags": []
   },
   "source": [
    "You can actually use Python to quickly turn this string into a list with `.split()`.  In the parentheses, we need to provide the character should be used to mark the end of one list item and the beginning of another, and enclose it in quotation marks.  In this case, that character is a comma."
   ]
  },
  {
   "cell_type": "code",
   "execution_count": 7,
   "id": "8d343ee6",
   "metadata": {
    "execution": {
     "iopub.execute_input": "2025-02-26T10:02:49.922196Z",
     "iopub.status.busy": "2025-02-26T10:02:49.921792Z",
     "iopub.status.idle": "2025-02-26T10:02:49.926780Z",
     "shell.execute_reply": "2025-02-26T10:02:49.925612Z"
    },
    "papermill": {
     "duration": 0.013402,
     "end_time": "2025-02-26T10:02:49.928434",
     "exception": false,
     "start_time": "2025-02-26T10:02:49.915032",
     "status": "completed"
    },
    "tags": []
   },
   "outputs": [
    {
     "name": "stdout",
     "output_type": "stream",
     "text": [
      "['pink primrose', 'hard-leaved pocket orchid', 'canterbury bells', 'sweet pea', 'english marigold', 'tiger lily', 'moon orchid', 'bird of paradise', 'monkshood', 'globe thistle']\n"
     ]
    }
   ],
   "source": [
    " print(flowers.split(\",\"))"
   ]
  },
  {
   "cell_type": "markdown",
   "id": "94cdc526",
   "metadata": {
    "papermill": {
     "duration": 0.005354,
     "end_time": "2025-02-26T10:02:49.939538",
     "exception": false,
     "start_time": "2025-02-26T10:02:49.934184",
     "status": "completed"
    },
    "tags": []
   },
   "source": [
    "Now it is your turn to try this out!  Create two Python lists:\n",
    "- `letters` should be a Python list where each entry is an uppercase letter of the English alphabet.  For instance, the first two entries should be `\"A\"` and `\"B\"`, and the final two entries should be `\"Y\"` and `\"Z\"`.  Use the string `alphabet` to create this list.\n",
    "- `address` should be a Python list where each row in `address` is a different item in the list.  Currently, each row in `address` is separated by a comma. "
   ]
  },
  {
   "cell_type": "code",
   "execution_count": 8,
   "id": "4b8452b9",
   "metadata": {
    "execution": {
     "iopub.execute_input": "2025-02-26T10:02:49.951954Z",
     "iopub.status.busy": "2025-02-26T10:02:49.951597Z",
     "iopub.status.idle": "2025-02-26T10:02:49.959206Z",
     "shell.execute_reply": "2025-02-26T10:02:49.958206Z"
    },
    "papermill": {
     "duration": 0.01565,
     "end_time": "2025-02-26T10:02:49.960750",
     "exception": false,
     "start_time": "2025-02-26T10:02:49.945100",
     "status": "completed"
    },
    "tags": []
   },
   "outputs": [
    {
     "data": {
      "application/javascript": [
       "parent.postMessage({\"jupyterEvent\": \"custom.exercise_interaction\", \"data\": {\"outcomeType\": 1, \"valueTowardsCompletion\": 0.2, \"interactionType\": 1, \"questionType\": 1, \"questionId\": \"3_SplitString\", \"learnToolsVersion\": \"0.3.4\", \"failureMessage\": \"\", \"exceptionClass\": \"\", \"trace\": \"\"}}, \"*\")"
      ],
      "text/plain": [
       "<IPython.core.display.Javascript object>"
      ]
     },
     "metadata": {},
     "output_type": "display_data"
    },
    {
     "data": {
      "text/markdown": [
       "<span style=\"color:#33cc33\">Correct</span>"
      ],
      "text/plain": [
       "Correct"
      ]
     },
     "metadata": {},
     "output_type": "display_data"
    }
   ],
   "source": [
    "# DO not change: Define two Python strings\n",
    "alphabet = \"A.B.C.D.E.F.G.H.I.J.K.L.M.N.O.P.Q.R.S.T.U.V.W.X.Y.Z\"\n",
    "address = \"Mr. H. Potter,The cupboard under the Stairs,4 Privet Drive,Little Whinging,Surrey\"\n",
    "\n",
    "# TODO: Convert strings into Python lists\n",
    "letters = alphabet.split('.')\n",
    "formatted_address = address.split(',')\n",
    "\n",
    "# Do not change: Check your answer\n",
    "q3.check()"
   ]
  },
  {
   "cell_type": "code",
   "execution_count": 9,
   "id": "6923c186",
   "metadata": {
    "execution": {
     "iopub.execute_input": "2025-02-26T10:02:49.973685Z",
     "iopub.status.busy": "2025-02-26T10:02:49.973361Z",
     "iopub.status.idle": "2025-02-26T10:02:49.976821Z",
     "shell.execute_reply": "2025-02-26T10:02:49.976011Z"
    },
    "papermill": {
     "duration": 0.011777,
     "end_time": "2025-02-26T10:02:49.978408",
     "exception": false,
     "start_time": "2025-02-26T10:02:49.966631",
     "status": "completed"
    },
    "tags": []
   },
   "outputs": [],
   "source": [
    "# Uncomment to see a hint\n",
    "#q3.hint()\n",
    "\n",
    "# Uncomment to see the solution\n",
    "#q3.solution()"
   ]
  },
  {
   "cell_type": "markdown",
   "id": "1dc22c33",
   "metadata": {
    "papermill": {
     "duration": 0.006257,
     "end_time": "2025-02-26T10:02:49.990699",
     "exception": false,
     "start_time": "2025-02-26T10:02:49.984442",
     "status": "completed"
    },
    "tags": []
   },
   "source": [
    "# Question 4\n",
    "\n",
    "In the Python course, you'll learn all about **list comprehensions**, which allow you to create a list based on the values in another list.  In this question, you'll get a brief preview of how they work.\n",
    "\n",
    "Say we're working with the list below."
   ]
  },
  {
   "cell_type": "code",
   "execution_count": 10,
   "id": "8d61fb0a",
   "metadata": {
    "execution": {
     "iopub.execute_input": "2025-02-26T10:02:50.007220Z",
     "iopub.status.busy": "2025-02-26T10:02:50.006774Z",
     "iopub.status.idle": "2025-02-26T10:02:50.011248Z",
     "shell.execute_reply": "2025-02-26T10:02:50.010362Z"
    },
    "papermill": {
     "duration": 0.013657,
     "end_time": "2025-02-26T10:02:50.012861",
     "exception": false,
     "start_time": "2025-02-26T10:02:49.999204",
     "status": "completed"
    },
    "tags": []
   },
   "outputs": [],
   "source": [
    "test_ratings = [1, 2, 3, 4, 5]"
   ]
  },
  {
   "cell_type": "markdown",
   "id": "6dff4040",
   "metadata": {
    "papermill": {
     "duration": 0.007527,
     "end_time": "2025-02-26T10:02:50.027606",
     "exception": false,
     "start_time": "2025-02-26T10:02:50.020079",
     "status": "completed"
    },
    "tags": []
   },
   "source": [
    "Then we can use this list (`test_ratings`) to create a new list (`test_liked`) where each item has been turned into a boolean, depending on whether or not the item is greater than or equal to four."
   ]
  },
  {
   "cell_type": "code",
   "execution_count": 11,
   "id": "05d6c7ac",
   "metadata": {
    "execution": {
     "iopub.execute_input": "2025-02-26T10:02:50.043488Z",
     "iopub.status.busy": "2025-02-26T10:02:50.042935Z",
     "iopub.status.idle": "2025-02-26T10:02:50.049215Z",
     "shell.execute_reply": "2025-02-26T10:02:50.047849Z"
    },
    "papermill": {
     "duration": 0.016539,
     "end_time": "2025-02-26T10:02:50.050927",
     "exception": false,
     "start_time": "2025-02-26T10:02:50.034388",
     "status": "completed"
    },
    "tags": []
   },
   "outputs": [
    {
     "name": "stdout",
     "output_type": "stream",
     "text": [
      "[False, False, False, True, True]\n"
     ]
    }
   ],
   "source": [
    "test_liked = [i>=4 for i in test_ratings]\n",
    "print(test_liked)"
   ]
  },
  {
   "cell_type": "markdown",
   "id": "f2b36020",
   "metadata": {
    "papermill": {
     "duration": 0.005932,
     "end_time": "2025-02-26T10:02:50.063338",
     "exception": false,
     "start_time": "2025-02-26T10:02:50.057406",
     "status": "completed"
    },
    "tags": []
   },
   "source": [
    "In this question, you'll use this list comprehension to define a function `percentage_liked()` that takes one argument as input:\n",
    "- `ratings`: list of ratings that people gave to a movie, where each rating is a number between 1-5, inclusive\n",
    "\n",
    "We say someone liked the movie, if they gave a rating of either 4 or 5.  Your function should return the percentage of people who liked the movie.\n",
    "\n",
    "For instance, if we supply a value of `[1, 2, 3, 4, 5, 4, 5, 1]`, then 50% (4/8) of the people liked the movie, and the function should return `0.5`.\n",
    "\n",
    "Part of the function has already been completed for you.  You need only use `list_liked` to calculate `percentage_liked`."
   ]
  },
  {
   "cell_type": "code",
   "execution_count": 12,
   "id": "c76af06b",
   "metadata": {
    "execution": {
     "iopub.execute_input": "2025-02-26T10:02:50.078540Z",
     "iopub.status.busy": "2025-02-26T10:02:50.078175Z",
     "iopub.status.idle": "2025-02-26T10:02:50.086202Z",
     "shell.execute_reply": "2025-02-26T10:02:50.085246Z"
    },
    "papermill": {
     "duration": 0.017273,
     "end_time": "2025-02-26T10:02:50.087725",
     "exception": false,
     "start_time": "2025-02-26T10:02:50.070452",
     "status": "completed"
    },
    "tags": []
   },
   "outputs": [
    {
     "data": {
      "application/javascript": [
       "parent.postMessage({\"jupyterEvent\": \"custom.exercise_interaction\", \"data\": {\"outcomeType\": 1, \"valueTowardsCompletion\": 0.2, \"interactionType\": 1, \"questionType\": 2, \"questionId\": \"4_PercentageLiked\", \"learnToolsVersion\": \"0.3.4\", \"failureMessage\": \"\", \"exceptionClass\": \"\", \"trace\": \"\"}}, \"*\")"
      ],
      "text/plain": [
       "<IPython.core.display.Javascript object>"
      ]
     },
     "metadata": {},
     "output_type": "display_data"
    },
    {
     "data": {
      "text/markdown": [
       "<span style=\"color:#33cc33\">Correct</span>"
      ],
      "text/plain": [
       "Correct"
      ]
     },
     "metadata": {},
     "output_type": "display_data"
    }
   ],
   "source": [
    "\n",
    "def percentage_liked(ratings):\n",
    "    list_liked = [i>=4 for i in ratings]\n",
    "    # TODO: Complete the function\n",
    "    percentage_liked = sum(list_liked)/ len(ratings)\n",
    "    return percentage_liked\n",
    "\n",
    "# Do not change: should return 0.5\n",
    "percentage_liked([1, 2, 3, 4, 5, 4, 5, 1])\n",
    "\n",
    "# Do not change: Check your answer\n",
    "q4.check()"
   ]
  },
  {
   "cell_type": "code",
   "execution_count": 13,
   "id": "39008106",
   "metadata": {
    "execution": {
     "iopub.execute_input": "2025-02-26T10:02:50.101218Z",
     "iopub.status.busy": "2025-02-26T10:02:50.100814Z",
     "iopub.status.idle": "2025-02-26T10:02:50.104689Z",
     "shell.execute_reply": "2025-02-26T10:02:50.103728Z"
    },
    "papermill": {
     "duration": 0.01238,
     "end_time": "2025-02-26T10:02:50.106226",
     "exception": false,
     "start_time": "2025-02-26T10:02:50.093846",
     "status": "completed"
    },
    "tags": []
   },
   "outputs": [],
   "source": [
    "# Uncomment to see a hint\n",
    "#q4.hint()\n",
    "\n",
    "# Uncomment to see the solution\n",
    "#q4.solution()"
   ]
  },
  {
   "cell_type": "markdown",
   "id": "c434de95",
   "metadata": {
    "papermill": {
     "duration": 0.005994,
     "end_time": "2025-02-26T10:02:50.118314",
     "exception": false,
     "start_time": "2025-02-26T10:02:50.112320",
     "status": "completed"
    },
    "tags": []
   },
   "source": [
    "# 🌶️ Question 5\n",
    " \n",
    "Say you're doing analytics for a website.  You need to write a function that returns the percentage growth in the total number of users relative to a specified number of years ago.\n",
    "\n",
    "Your function `percentage_growth()` should take two arguments as input:\n",
    "- `num_users` = Python list with the total number of users each year.  So `num_users[0]` is the total number of users in the first year, `num_users[1]` is the total number of users in the second year, and so on.  The final entry in the list gives the total number of users in the most recently completed year.\n",
    "- `yrs_ago` = number of years to go back in time when calculating the growth percentage\n",
    "\n",
    "For instance, say `num_users = [920344, 1043553, 1204334, 1458996, 1503323, 1593432, 1623463, 1843064, 1930992, 2001078]`.\n",
    "- if `yrs_ago = 1`, we want the function to return a value of about `0.036`. This corresponds to a percentage growth of approximately 3.6%, calculated as (2001078 - 1930992)/1930992.\n",
    "- if `years_ago = 7`, we would want to return approximately `0.66`.  This corresponds to a percentage growth of approximately 66%, calculated as (2001078 - 1204334)/1204334.\n",
    "\n",
    "Your coworker sent you a draft of a function, but it doesn't seem to be doing the correct calculation.  Can you figure out what has gone wrong and make the needed changes?"
   ]
  },
  {
   "cell_type": "code",
   "execution_count": 14,
   "id": "df876b60",
   "metadata": {
    "execution": {
     "iopub.execute_input": "2025-02-26T10:02:50.131768Z",
     "iopub.status.busy": "2025-02-26T10:02:50.131371Z",
     "iopub.status.idle": "2025-02-26T10:02:50.141128Z",
     "shell.execute_reply": "2025-02-26T10:02:50.140299Z"
    },
    "papermill": {
     "duration": 0.018212,
     "end_time": "2025-02-26T10:02:50.142631",
     "exception": false,
     "start_time": "2025-02-26T10:02:50.124419",
     "status": "completed"
    },
    "tags": []
   },
   "outputs": [
    {
     "name": "stdout",
     "output_type": "stream",
     "text": [
      "0.03629533421163837\n",
      "0.6615639847417742\n"
     ]
    },
    {
     "data": {
      "application/javascript": [
       "parent.postMessage({\"jupyterEvent\": \"custom.exercise_interaction\", \"data\": {\"outcomeType\": 1, \"valueTowardsCompletion\": 0.2, \"interactionType\": 1, \"questionType\": 2, \"questionId\": \"5_WebsiteAnalytics\", \"learnToolsVersion\": \"0.3.4\", \"failureMessage\": \"\", \"exceptionClass\": \"\", \"trace\": \"\"}}, \"*\")"
      ],
      "text/plain": [
       "<IPython.core.display.Javascript object>"
      ]
     },
     "metadata": {},
     "output_type": "display_data"
    },
    {
     "data": {
      "text/markdown": [
       "<span style=\"color:#33cc33\">Correct</span>"
      ],
      "text/plain": [
       "Correct"
      ]
     },
     "metadata": {},
     "output_type": "display_data"
    }
   ],
   "source": [
    "# TODO: Edit the function\n",
    "def percentage_growth(num_users, yrs_ago):\n",
    "    growth = (num_users[len(num_users)-1] - num_users[len(num_users)-yrs_ago- 1])/num_users[len(num_users)-yrs_ago- 1]\n",
    "    return growth\n",
    "\n",
    "# Do not change: Variable for calculating some test examples\n",
    "num_users_test = [920344, 1043553, 1204334, 1458996, 1503323, 1593432, 1623463, 1843064, 1930992, 2001078]\n",
    "\n",
    "# Do not change: Should return .036\n",
    "print(percentage_growth(num_users_test, 1))\n",
    "\n",
    "# Do not change: Should return 0.66\n",
    "print(percentage_growth(num_users_test, 7))\n",
    "\n",
    "# Do not change: Check your answer\n",
    "q5.check()"
   ]
  },
  {
   "cell_type": "code",
   "execution_count": 15,
   "id": "35356b56",
   "metadata": {
    "execution": {
     "iopub.execute_input": "2025-02-26T10:02:50.163531Z",
     "iopub.status.busy": "2025-02-26T10:02:50.163028Z",
     "iopub.status.idle": "2025-02-26T10:02:50.167068Z",
     "shell.execute_reply": "2025-02-26T10:02:50.166076Z"
    },
    "papermill": {
     "duration": 0.018221,
     "end_time": "2025-02-26T10:02:50.169119",
     "exception": false,
     "start_time": "2025-02-26T10:02:50.150898",
     "status": "completed"
    },
    "tags": []
   },
   "outputs": [],
   "source": [
    "# Uncomment to see a hint\n",
    "#q5.hint()\n",
    "\n",
    "# Uncomment to see the solution\n",
    "#q5.solution()"
   ]
  },
  {
   "cell_type": "markdown",
   "id": "391c7801",
   "metadata": {
    "papermill": {
     "duration": 0.010121,
     "end_time": "2025-02-26T10:02:50.187268",
     "exception": false,
     "start_time": "2025-02-26T10:02:50.177147",
     "status": "completed"
    },
    "tags": []
   },
   "source": [
    "# Congratulations!\n",
    "\n",
    "Congratulations for finishing the Intro to Programming course!  You should be proud of your very first steps with learning programming.  As next steps, we recommend taking:\n",
    "- the **[Python course](http://www.kaggle.com/learn/python)**, and \n",
    "- the **[Intro to Machine Learning course](https://www.kaggle.com/learn/intro-to-machine-learning)**."
   ]
  },
  {
   "cell_type": "markdown",
   "id": "c80a0a9f",
   "metadata": {
    "papermill": {
     "duration": 0.006984,
     "end_time": "2025-02-26T10:02:50.200782",
     "exception": false,
     "start_time": "2025-02-26T10:02:50.193798",
     "status": "completed"
    },
    "tags": []
   },
   "source": [
    "---\n",
    "\n",
    "\n",
    "\n",
    "\n",
    "*Have questions or comments? Visit the [course discussion forum](https://www.kaggle.com/learn/intro-to-programming/discussion) to chat with other learners.*"
   ]
  }
 ],
 "metadata": {
  "kaggle": {
   "accelerator": "none",
   "dataSources": [],
   "isGpuEnabled": false,
   "isInternetEnabled": false,
   "language": "python",
   "sourceType": "notebook"
  },
  "kernelspec": {
   "display_name": "Python 3",
   "language": "python",
   "name": "python3"
  },
  "language_info": {
   "codemirror_mode": {
    "name": "ipython",
    "version": 3
   },
   "file_extension": ".py",
   "mimetype": "text/x-python",
   "name": "python",
   "nbconvert_exporter": "python",
   "pygments_lexer": "ipython3",
   "version": "3.10.12"
  },
  "papermill": {
   "default_parameters": {},
   "duration": 5.699308,
   "end_time": "2025-02-26T10:02:50.829176",
   "environment_variables": {},
   "exception": null,
   "input_path": "__notebook__.ipynb",
   "output_path": "__notebook__.ipynb",
   "parameters": {},
   "start_time": "2025-02-26T10:02:45.129868",
   "version": "2.6.0"
  }
 },
 "nbformat": 4,
 "nbformat_minor": 5
}
