{
 "cells": [
  {
   "cell_type": "markdown",
   "id": "a64cd49f",
   "metadata": {
    "papermill": {
     "duration": 0.005466,
     "end_time": "2025-02-26T09:29:33.075025",
     "exception": false,
     "start_time": "2025-02-26T09:29:33.069559",
     "status": "completed"
    },
    "tags": []
   },
   "source": [
    "**This notebook is an exercise in the [Intro to Programming](https://www.kaggle.com/learn/intro-to-programming) course.  You can reference the tutorial at [this link](https://www.kaggle.com/alexisbcook/functions).**\n",
    "\n",
    "---\n"
   ]
  },
  {
   "cell_type": "markdown",
   "id": "f5c5be43",
   "metadata": {
    "papermill": {
     "duration": 0.004746,
     "end_time": "2025-02-26T09:29:33.084931",
     "exception": false,
     "start_time": "2025-02-26T09:29:33.080185",
     "status": "completed"
    },
    "tags": []
   },
   "source": [
    "In the tutorial, you learned about functions. In this exercise, you'll write some of your own!\n",
    "\n",
    "# Set up the notebook\n",
    "\n",
    "Run the next code cell without changes to set up the notebook."
   ]
  },
  {
   "cell_type": "code",
   "execution_count": 1,
   "id": "db0731c1",
   "metadata": {
    "execution": {
     "iopub.execute_input": "2025-02-26T09:29:33.095918Z",
     "iopub.status.busy": "2025-02-26T09:29:33.095604Z",
     "iopub.status.idle": "2025-02-26T09:29:34.173720Z",
     "shell.execute_reply": "2025-02-26T09:29:34.172470Z"
    },
    "papermill": {
     "duration": 1.085471,
     "end_time": "2025-02-26T09:29:34.175531",
     "exception": false,
     "start_time": "2025-02-26T09:29:33.090060",
     "status": "completed"
    },
    "tags": []
   },
   "outputs": [
    {
     "name": "stdout",
     "output_type": "stream",
     "text": [
      "Setup complete.\n"
     ]
    }
   ],
   "source": [
    "# Set up the exercise\n",
    "import math\n",
    "from learntools.core import binder\n",
    "binder.bind(globals())\n",
    "from learntools.intro_to_programming.ex2 import *\n",
    "print('Setup complete.')"
   ]
  },
  {
   "cell_type": "markdown",
   "id": "8786f15e",
   "metadata": {
    "papermill": {
     "duration": 0.00436,
     "end_time": "2025-02-26T09:29:34.184857",
     "exception": false,
     "start_time": "2025-02-26T09:29:34.180497",
     "status": "completed"
    },
    "tags": []
   },
   "source": [
    "# Question 1\n",
    "\n",
    "In the [House Prices - Advanced Regression Techniques competition](https://www.kaggle.com/c/house-prices-advanced-regression-techniques/overview), you need to use information like the number of bedrooms and bathrooms to predict the price of a house.  Inspired by this competition, you'll write your own function to do this.\n",
    "\n",
    "In the next code cell, create a function `get_expected_cost()` that has two arguments:\n",
    "- `beds` - number of bedrooms \n",
    "- `baths` - number of bathrooms\n",
    "\n",
    "It should return the expected cost of a house with that number of bedrooms and bathrooms.  Assume that:\n",
    "- the expected cost for a house with 0 bedrooms and 0 bathrooms is `80000`.  \n",
    "- each bedroom adds `30000` to the expected cost\n",
    "- each bathroom adds `10000` to the expected cost.\n",
    "\n",
    "For instance, \n",
    "- a house with 1 bedroom and 1 bathroom has an expected cost of `120000`, and \n",
    "- a house with 2 bedrooms and 1 bathroom has an expected cost of `150000`."
   ]
  },
  {
   "cell_type": "code",
   "execution_count": 2,
   "id": "3d22230d",
   "metadata": {
    "execution": {
     "iopub.execute_input": "2025-02-26T09:29:34.195397Z",
     "iopub.status.busy": "2025-02-26T09:29:34.194861Z",
     "iopub.status.idle": "2025-02-26T09:29:34.203357Z",
     "shell.execute_reply": "2025-02-26T09:29:34.202431Z"
    },
    "papermill": {
     "duration": 0.01544,
     "end_time": "2025-02-26T09:29:34.204844",
     "exception": false,
     "start_time": "2025-02-26T09:29:34.189404",
     "status": "completed"
    },
    "tags": []
   },
   "outputs": [
    {
     "data": {
      "application/javascript": [
       "parent.postMessage({\"jupyterEvent\": \"custom.exercise_interaction\", \"data\": {\"outcomeType\": 1, \"valueTowardsCompletion\": 0.2, \"interactionType\": 1, \"questionType\": 2, \"questionId\": \"1_GetExpectedCost\", \"learnToolsVersion\": \"0.3.4\", \"failureMessage\": \"\", \"exceptionClass\": \"\", \"trace\": \"\"}}, \"*\")"
      ],
      "text/plain": [
       "<IPython.core.display.Javascript object>"
      ]
     },
     "metadata": {},
     "output_type": "display_data"
    },
    {
     "data": {
      "text/markdown": [
       "<span style=\"color:#33cc33\">Correct</span>"
      ],
      "text/plain": [
       "Correct"
      ]
     },
     "metadata": {},
     "output_type": "display_data"
    }
   ],
   "source": [
    "# TODO: Complete the function\n",
    "def get_expected_cost(beds, baths):\n",
    "    value = 30000* beds+ 10000* baths+ 80000\n",
    "    return value\n",
    "\n",
    "# Check your answer \n",
    "q1.check()"
   ]
  },
  {
   "cell_type": "code",
   "execution_count": 3,
   "id": "29703022",
   "metadata": {
    "execution": {
     "iopub.execute_input": "2025-02-26T09:29:34.216078Z",
     "iopub.status.busy": "2025-02-26T09:29:34.215564Z",
     "iopub.status.idle": "2025-02-26T09:29:34.219387Z",
     "shell.execute_reply": "2025-02-26T09:29:34.218500Z"
    },
    "papermill": {
     "duration": 0.011081,
     "end_time": "2025-02-26T09:29:34.220854",
     "exception": false,
     "start_time": "2025-02-26T09:29:34.209773",
     "status": "completed"
    },
    "tags": []
   },
   "outputs": [],
   "source": [
    "# Uncomment to see a hint\n",
    "#q1.hint()\n",
    "\n",
    "# Uncomment to view the solution\n",
    "#q1.solution()"
   ]
  },
  {
   "cell_type": "markdown",
   "id": "ce0804d7",
   "metadata": {
    "papermill": {
     "duration": 0.004773,
     "end_time": "2025-02-26T09:29:34.231616",
     "exception": false,
     "start_time": "2025-02-26T09:29:34.226843",
     "status": "completed"
    },
    "tags": []
   },
   "source": [
    "# Question 2\n",
    "\n",
    "You are thinking about buying a home and want to get an idea of how much you will spend, based on the number of bedrooms and bathrooms.  You are trying to decide between four different options:\n",
    "- Option 1: house with two bedrooms and three bathrooms\n",
    "- Option 2: house with three bedrooms and two bathrooms\n",
    "- Option 3: house with three bedrooms and three bathrooms\n",
    "- Option 4: house with three bedrooms and four bathrooms\n",
    "\n",
    "Use the `get_expected_cost()` function you defined in question 1 to set `option_1`, `option_2`, `option_3`, and `option_4` to the expected cost of each option."
   ]
  },
  {
   "cell_type": "code",
   "execution_count": 4,
   "id": "881b3407",
   "metadata": {
    "execution": {
     "iopub.execute_input": "2025-02-26T09:29:34.242822Z",
     "iopub.status.busy": "2025-02-26T09:29:34.242491Z",
     "iopub.status.idle": "2025-02-26T09:29:34.251985Z",
     "shell.execute_reply": "2025-02-26T09:29:34.251049Z"
    },
    "papermill": {
     "duration": 0.017025,
     "end_time": "2025-02-26T09:29:34.253595",
     "exception": false,
     "start_time": "2025-02-26T09:29:34.236570",
     "status": "completed"
    },
    "tags": []
   },
   "outputs": [
    {
     "name": "stdout",
     "output_type": "stream",
     "text": [
      "170000\n",
      "190000\n",
      "200000\n",
      "210000\n"
     ]
    },
    {
     "data": {
      "application/javascript": [
       "parent.postMessage({\"jupyterEvent\": \"custom.exercise_interaction\", \"data\": {\"outcomeType\": 1, \"valueTowardsCompletion\": 0.2, \"interactionType\": 1, \"questionType\": 1, \"questionId\": \"2_RunGetExpectedCost\", \"learnToolsVersion\": \"0.3.4\", \"failureMessage\": \"\", \"exceptionClass\": \"\", \"trace\": \"\"}}, \"*\")"
      ],
      "text/plain": [
       "<IPython.core.display.Javascript object>"
      ]
     },
     "metadata": {},
     "output_type": "display_data"
    },
    {
     "data": {
      "text/markdown": [
       "<span style=\"color:#33cc33\">Correct</span>"
      ],
      "text/plain": [
       "Correct"
      ]
     },
     "metadata": {},
     "output_type": "display_data"
    }
   ],
   "source": [
    "# TODO: Use the get_expected_cost function to fill in each value\n",
    "option_one = get_expected_cost(2, 3)\n",
    "option_two = get_expected_cost(3, 2)\n",
    "option_three = get_expected_cost(3, 3)\n",
    "option_four = get_expected_cost(3, 4)\n",
    "\n",
    "print(option_one)\n",
    "print(option_two)\n",
    "print(option_three)\n",
    "print(option_four)\n",
    "\n",
    "# Check your answer\n",
    "q2.check()"
   ]
  },
  {
   "cell_type": "code",
   "execution_count": 5,
   "id": "ef20ea3c",
   "metadata": {
    "execution": {
     "iopub.execute_input": "2025-02-26T09:29:34.265501Z",
     "iopub.status.busy": "2025-02-26T09:29:34.265112Z",
     "iopub.status.idle": "2025-02-26T09:29:34.269029Z",
     "shell.execute_reply": "2025-02-26T09:29:34.268008Z"
    },
    "papermill": {
     "duration": 0.011717,
     "end_time": "2025-02-26T09:29:34.270645",
     "exception": false,
     "start_time": "2025-02-26T09:29:34.258928",
     "status": "completed"
    },
    "tags": []
   },
   "outputs": [],
   "source": [
    "# Uncomment to see a hint\n",
    "#q2.hint()\n",
    "\n",
    "# Uncomment to view the solution\n",
    "#q2.solution()"
   ]
  },
  {
   "cell_type": "markdown",
   "id": "6eb8f09b",
   "metadata": {
    "papermill": {
     "duration": 0.005024,
     "end_time": "2025-02-26T09:29:34.281096",
     "exception": false,
     "start_time": "2025-02-26T09:29:34.276072",
     "status": "completed"
    },
    "tags": []
   },
   "source": [
    "# Question 3\n",
    "\n",
    "You're a home decorator, and you'd like to use Python to streamline some of your work.  Specifically, you're creating a tool that you intend to use to calculate the cost of painting a room.\n",
    "\n",
    "As a first step, define a function `get_cost()` that takes as input:\n",
    "- `sqft_walls` = total square feet of walls to be painted\n",
    "- `sqft_ceiling` = square feet of ceiling to be painted\n",
    "- `sqft_per_gallon` = number of square feet that you can cover with one gallon of paint\n",
    "- `cost_per_gallon` = cost (in dollars) of one gallon of paint\n",
    "\n",
    "It should return the cost (in dollars) of putting one coat of paint on all walls and the ceiling.  Assume you can buy the exact amount of paint that you need, so you can buy partial gallons (e.g., if you need 7.523 gallons, you can buy that exact amount, instead of needing to buy 8 gallons and waste some paint).  Do not round your answer."
   ]
  },
  {
   "cell_type": "code",
   "execution_count": 6,
   "id": "c2fd8837",
   "metadata": {
    "execution": {
     "iopub.execute_input": "2025-02-26T09:29:34.293322Z",
     "iopub.status.busy": "2025-02-26T09:29:34.292891Z",
     "iopub.status.idle": "2025-02-26T09:29:34.300652Z",
     "shell.execute_reply": "2025-02-26T09:29:34.299475Z"
    },
    "papermill": {
     "duration": 0.015553,
     "end_time": "2025-02-26T09:29:34.302172",
     "exception": false,
     "start_time": "2025-02-26T09:29:34.286619",
     "status": "completed"
    },
    "tags": []
   },
   "outputs": [
    {
     "data": {
      "application/javascript": [
       "parent.postMessage({\"jupyterEvent\": \"custom.exercise_interaction\", \"data\": {\"outcomeType\": 1, \"valueTowardsCompletion\": 0.2, \"interactionType\": 1, \"questionType\": 2, \"questionId\": \"3_GetCostPaint\", \"learnToolsVersion\": \"0.3.4\", \"failureMessage\": \"\", \"exceptionClass\": \"\", \"trace\": \"\"}}, \"*\")"
      ],
      "text/plain": [
       "<IPython.core.display.Javascript object>"
      ]
     },
     "metadata": {},
     "output_type": "display_data"
    },
    {
     "data": {
      "text/markdown": [
       "<span style=\"color:#33cc33\">Correct</span>"
      ],
      "text/plain": [
       "Correct"
      ]
     },
     "metadata": {},
     "output_type": "display_data"
    }
   ],
   "source": [
    "# TODO: Finish defining the function\n",
    "def get_cost(sqft_walls, sqft_ceiling, sqft_per_gallon, cost_per_gallon):\n",
    "    cost = ((sqft_walls+ sqft_ceiling)/ sqft_per_gallon) * cost_per_gallon\n",
    "    return cost\n",
    "\n",
    "# Check your answer\n",
    "q3.check()"
   ]
  },
  {
   "cell_type": "code",
   "execution_count": 7,
   "id": "a3b0c834",
   "metadata": {
    "execution": {
     "iopub.execute_input": "2025-02-26T09:29:34.315573Z",
     "iopub.status.busy": "2025-02-26T09:29:34.315176Z",
     "iopub.status.idle": "2025-02-26T09:29:34.319141Z",
     "shell.execute_reply": "2025-02-26T09:29:34.318039Z"
    },
    "papermill": {
     "duration": 0.013083,
     "end_time": "2025-02-26T09:29:34.320895",
     "exception": false,
     "start_time": "2025-02-26T09:29:34.307812",
     "status": "completed"
    },
    "tags": []
   },
   "outputs": [],
   "source": [
    "# Uncomment to see a hint\n",
    "#q3.hint()\n",
    "\n",
    "# Uncomment to view the solution\n",
    "#q3.solution()"
   ]
  },
  {
   "cell_type": "markdown",
   "id": "aad4bbf5",
   "metadata": {
    "papermill": {
     "duration": 0.00572,
     "end_time": "2025-02-26T09:29:34.332863",
     "exception": false,
     "start_time": "2025-02-26T09:29:34.327143",
     "status": "completed"
    },
    "tags": []
   },
   "source": [
    "# Question 4\n",
    "\n",
    "Use the `get_cost()` function you defined in Question 3 to calculate the cost of applying one coat of paint to a room with:\n",
    "- 432 square feet of walls, and\n",
    "- 144 square feet of ceiling.\n",
    "\n",
    "Assume that one gallon of paint covers 400 square feet and costs $15.  As in Question 3, assume you can buy partial gallons of paint.  Do not round your answer."
   ]
  },
  {
   "cell_type": "code",
   "execution_count": 8,
   "id": "e3ea8b9a",
   "metadata": {
    "execution": {
     "iopub.execute_input": "2025-02-26T09:29:34.345724Z",
     "iopub.status.busy": "2025-02-26T09:29:34.345323Z",
     "iopub.status.idle": "2025-02-26T09:29:34.352735Z",
     "shell.execute_reply": "2025-02-26T09:29:34.351581Z"
    },
    "papermill": {
     "duration": 0.015932,
     "end_time": "2025-02-26T09:29:34.354511",
     "exception": false,
     "start_time": "2025-02-26T09:29:34.338579",
     "status": "completed"
    },
    "tags": []
   },
   "outputs": [
    {
     "data": {
      "application/javascript": [
       "parent.postMessage({\"jupyterEvent\": \"custom.exercise_interaction\", \"data\": {\"outcomeType\": 1, \"valueTowardsCompletion\": 0.2, \"interactionType\": 1, \"questionType\": 1, \"questionId\": \"4_GetCostPaintExample\", \"learnToolsVersion\": \"0.3.4\", \"failureMessage\": \"\", \"exceptionClass\": \"\", \"trace\": \"\"}}, \"*\")"
      ],
      "text/plain": [
       "<IPython.core.display.Javascript object>"
      ]
     },
     "metadata": {},
     "output_type": "display_data"
    },
    {
     "data": {
      "text/markdown": [
       "<span style=\"color:#33cc33\">Correct</span>"
      ],
      "text/plain": [
       "Correct"
      ]
     },
     "metadata": {},
     "output_type": "display_data"
    }
   ],
   "source": [
    "# TODO: Set the project_cost variable to the cost of the project\n",
    "project_cost = get_cost(432, 144, 400, 15)\n",
    "\n",
    "# Check your answer\n",
    "q4.check()"
   ]
  },
  {
   "cell_type": "code",
   "execution_count": 9,
   "id": "60107124",
   "metadata": {
    "execution": {
     "iopub.execute_input": "2025-02-26T09:29:34.367278Z",
     "iopub.status.busy": "2025-02-26T09:29:34.366884Z",
     "iopub.status.idle": "2025-02-26T09:29:34.370863Z",
     "shell.execute_reply": "2025-02-26T09:29:34.369823Z"
    },
    "papermill": {
     "duration": 0.012194,
     "end_time": "2025-02-26T09:29:34.372542",
     "exception": false,
     "start_time": "2025-02-26T09:29:34.360348",
     "status": "completed"
    },
    "tags": []
   },
   "outputs": [],
   "source": [
    "# Uncomment to see a hint\n",
    "#q4.hint()\n",
    "\n",
    "# Uncomment to view the solution\n",
    "#q4.solution()"
   ]
  },
  {
   "cell_type": "markdown",
   "id": "76200ecd",
   "metadata": {
    "papermill": {
     "duration": 0.005491,
     "end_time": "2025-02-26T09:29:34.383935",
     "exception": false,
     "start_time": "2025-02-26T09:29:34.378444",
     "status": "completed"
    },
    "tags": []
   },
   "source": [
    "# 🌶️ Question 5\n",
    "\n",
    "Now say you can no longer buy fractions of a gallon.  (For instance, if you need 4.3 gallons to do a project, then you have to buy 5 gallons of paint.)\n",
    "\n",
    "With this new scenario, you will create a new function `get_actual_cost` that uses the same inputs and calculates the cost of your project.\n",
    "\n",
    "One function that you'll need to use to do this is `math.ceil()`.  We demonstrate usage of this function in the code cell below.  It takes as a number as input and rounds the number up to the nearest integer.  \n",
    "\n",
    "Run the next code cell to test this function for yourself.  Feel free to change the value of `test_value` and make sure `math.ceil()` returns the number you expect."
   ]
  },
  {
   "cell_type": "code",
   "execution_count": 10,
   "id": "c65c3c3a",
   "metadata": {
    "execution": {
     "iopub.execute_input": "2025-02-26T09:29:34.396422Z",
     "iopub.status.busy": "2025-02-26T09:29:34.396079Z",
     "iopub.status.idle": "2025-02-26T09:29:34.400858Z",
     "shell.execute_reply": "2025-02-26T09:29:34.399987Z"
    },
    "papermill": {
     "duration": 0.012873,
     "end_time": "2025-02-26T09:29:34.402401",
     "exception": false,
     "start_time": "2025-02-26T09:29:34.389528",
     "status": "completed"
    },
    "tags": []
   },
   "outputs": [
    {
     "name": "stdout",
     "output_type": "stream",
     "text": [
      "3\n"
     ]
    }
   ],
   "source": [
    "test_value = 2.17\n",
    "\n",
    "rounded_value = math.ceil(test_value)\n",
    "print(rounded_value)"
   ]
  },
  {
   "cell_type": "markdown",
   "id": "3e0b1430",
   "metadata": {
    "papermill": {
     "duration": 0.005476,
     "end_time": "2025-02-26T09:29:34.413879",
     "exception": false,
     "start_time": "2025-02-26T09:29:34.408403",
     "status": "completed"
    },
    "tags": []
   },
   "source": [
    "Use the next code cell to define the function `get_actual_cost()`.  You'll need to use the `math.ceil()` function to do this.\n",
    "\n",
    "When answering this question, note that it's completely valid to define a function that makes use of another function.  For instance, we can define a function `round_up_and_divide_by_three` that makes use of the `math.ceil` function:\n",
    "```\n",
    "def round_up_and_divide_by_three(num):\n",
    "    new_value = math.ceil(num)\n",
    "    final_value = new_value / 3\n",
    "    return final_value\n",
    "```"
   ]
  },
  {
   "cell_type": "code",
   "execution_count": 11,
   "id": "7b6413fb",
   "metadata": {
    "execution": {
     "iopub.execute_input": "2025-02-26T09:29:34.426805Z",
     "iopub.status.busy": "2025-02-26T09:29:34.426450Z",
     "iopub.status.idle": "2025-02-26T09:29:34.434216Z",
     "shell.execute_reply": "2025-02-26T09:29:34.433258Z"
    },
    "papermill": {
     "duration": 0.016186,
     "end_time": "2025-02-26T09:29:34.435876",
     "exception": false,
     "start_time": "2025-02-26T09:29:34.419690",
     "status": "completed"
    },
    "tags": []
   },
   "outputs": [
    {
     "data": {
      "application/javascript": [
       "parent.postMessage({\"jupyterEvent\": \"custom.exercise_interaction\", \"data\": {\"outcomeType\": 1, \"valueTowardsCompletion\": 0.2, \"interactionType\": 1, \"questionType\": 2, \"questionId\": \"5_NoMoreFractions\", \"learnToolsVersion\": \"0.3.4\", \"failureMessage\": \"\", \"exceptionClass\": \"\", \"trace\": \"\"}}, \"*\")"
      ],
      "text/plain": [
       "<IPython.core.display.Javascript object>"
      ]
     },
     "metadata": {},
     "output_type": "display_data"
    },
    {
     "data": {
      "text/markdown": [
       "<span style=\"color:#33cc33\">Correct</span>"
      ],
      "text/plain": [
       "Correct"
      ]
     },
     "metadata": {},
     "output_type": "display_data"
    }
   ],
   "source": [
    "def get_actual_cost(sqft_walls, sqft_ceiling, sqft_per_gallon, cost_per_gallon):\n",
    "    cost = math.ceil((sqft_walls+ sqft_ceiling)/ sqft_per_gallon) * cost_per_gallon\n",
    "    return cost\n",
    "\n",
    "# Check your answer\n",
    "q5.check()"
   ]
  },
  {
   "cell_type": "code",
   "execution_count": 12,
   "id": "33efac4f",
   "metadata": {
    "execution": {
     "iopub.execute_input": "2025-02-26T09:29:34.449486Z",
     "iopub.status.busy": "2025-02-26T09:29:34.449103Z",
     "iopub.status.idle": "2025-02-26T09:29:34.456220Z",
     "shell.execute_reply": "2025-02-26T09:29:34.455050Z"
    },
    "papermill": {
     "duration": 0.01559,
     "end_time": "2025-02-26T09:29:34.457889",
     "exception": false,
     "start_time": "2025-02-26T09:29:34.442299",
     "status": "completed"
    },
    "tags": []
   },
   "outputs": [
    {
     "data": {
      "application/javascript": [
       "parent.postMessage({\"jupyterEvent\": \"custom.exercise_interaction\", \"data\": {\"interactionType\": 3, \"questionType\": 2, \"questionId\": \"5_NoMoreFractions\", \"learnToolsVersion\": \"0.3.4\", \"valueTowardsCompletion\": 0.0, \"failureMessage\": \"\", \"exceptionClass\": \"\", \"trace\": \"\", \"outcomeType\": 4}}, \"*\")"
      ],
      "text/plain": [
       "<IPython.core.display.Javascript object>"
      ]
     },
     "metadata": {},
     "output_type": "display_data"
    },
    {
     "data": {
      "text/markdown": [
       "<span style=\"color:#33cc99\">Solution:</span> \n",
       "```python\n",
       "def get_actual_cost(sqft_walls, sqft_ceiling, sqft_per_gallon, cost_per_gallon):\n",
       "    total_sqft = sqft_walls + sqft_ceiling\n",
       "    gallons_needed = total_sqft / sqft_per_gallon\n",
       "    gallons_to_buy = math.ceil(gallons_needed)\n",
       "    cost = cost_per_gallon * gallons_to_buy\n",
       "    return cost\n",
       "\n",
       "```"
      ],
      "text/plain": [
       "Solution: \n",
       "```python\n",
       "def get_actual_cost(sqft_walls, sqft_ceiling, sqft_per_gallon, cost_per_gallon):\n",
       "    total_sqft = sqft_walls + sqft_ceiling\n",
       "    gallons_needed = total_sqft / sqft_per_gallon\n",
       "    gallons_to_buy = math.ceil(gallons_needed)\n",
       "    cost = cost_per_gallon * gallons_to_buy\n",
       "    return cost\n",
       "\n",
       "```"
      ]
     },
     "metadata": {},
     "output_type": "display_data"
    }
   ],
   "source": [
    "# Uncomment to see a hint\n",
    "#q5.hint()\n",
    "\n",
    "# Uncomment to view the solution\n",
    "q5.solution()"
   ]
  },
  {
   "cell_type": "markdown",
   "id": "97c4fafb",
   "metadata": {
    "papermill": {
     "duration": 0.006219,
     "end_time": "2025-02-26T09:29:34.470421",
     "exception": false,
     "start_time": "2025-02-26T09:29:34.464202",
     "status": "completed"
    },
    "tags": []
   },
   "source": [
    "Once your function is verified as correct, run the next code cell to calculate the updated cost of your project."
   ]
  },
  {
   "cell_type": "code",
   "execution_count": 13,
   "id": "2dbb14d4",
   "metadata": {
    "execution": {
     "iopub.execute_input": "2025-02-26T09:29:34.484243Z",
     "iopub.status.busy": "2025-02-26T09:29:34.483859Z",
     "iopub.status.idle": "2025-02-26T09:29:34.489573Z",
     "shell.execute_reply": "2025-02-26T09:29:34.488541Z"
    },
    "papermill": {
     "duration": 0.014674,
     "end_time": "2025-02-26T09:29:34.491305",
     "exception": false,
     "start_time": "2025-02-26T09:29:34.476631",
     "status": "completed"
    },
    "tags": []
   },
   "outputs": [
    {
     "data": {
      "text/plain": [
       "30"
      ]
     },
     "execution_count": 13,
     "metadata": {},
     "output_type": "execute_result"
    }
   ],
   "source": [
    "get_actual_cost(432, 144, 400, 15) "
   ]
  },
  {
   "cell_type": "markdown",
   "id": "fe3342b6",
   "metadata": {
    "papermill": {
     "duration": 0.006027,
     "end_time": "2025-02-26T09:29:34.503500",
     "exception": false,
     "start_time": "2025-02-26T09:29:34.497473",
     "status": "completed"
    },
    "tags": []
   },
   "source": [
    "Say you're working with a slightly larger room.  Run the next code cell to calculate the cost of the project."
   ]
  },
  {
   "cell_type": "code",
   "execution_count": 14,
   "id": "fd40852f",
   "metadata": {
    "execution": {
     "iopub.execute_input": "2025-02-26T09:29:34.516982Z",
     "iopub.status.busy": "2025-02-26T09:29:34.516602Z",
     "iopub.status.idle": "2025-02-26T09:29:34.522449Z",
     "shell.execute_reply": "2025-02-26T09:29:34.521437Z"
    },
    "papermill": {
     "duration": 0.014491,
     "end_time": "2025-02-26T09:29:34.524093",
     "exception": false,
     "start_time": "2025-02-26T09:29:34.509602",
     "status": "completed"
    },
    "tags": []
   },
   "outputs": [
    {
     "data": {
      "text/plain": [
       "45"
      ]
     },
     "execution_count": 14,
     "metadata": {},
     "output_type": "execute_result"
    }
   ],
   "source": [
    "get_actual_cost(594, 288, 400, 15) "
   ]
  },
  {
   "cell_type": "markdown",
   "id": "a0ef8fbf",
   "metadata": {
    "papermill": {
     "duration": 0.006066,
     "end_time": "2025-02-26T09:29:34.536630",
     "exception": false,
     "start_time": "2025-02-26T09:29:34.530564",
     "status": "completed"
    },
    "tags": []
   },
   "source": [
    "# Keep going\n",
    "\n",
    "Continue to learn about **[data types](https://www.kaggle.com/alexisbcook/data-types)**."
   ]
  },
  {
   "cell_type": "markdown",
   "id": "628124bf",
   "metadata": {
    "papermill": {
     "duration": 0.006274,
     "end_time": "2025-02-26T09:29:34.549346",
     "exception": false,
     "start_time": "2025-02-26T09:29:34.543072",
     "status": "completed"
    },
    "tags": []
   },
   "source": [
    "---\n",
    "\n",
    "\n",
    "\n",
    "\n",
    "*Have questions or comments? Visit the [course discussion forum](https://www.kaggle.com/learn/intro-to-programming/discussion) to chat with other learners.*"
   ]
  }
 ],
 "metadata": {
  "kaggle": {
   "accelerator": "none",
   "dataSources": [],
   "isGpuEnabled": false,
   "isInternetEnabled": false,
   "language": "python",
   "sourceType": "notebook"
  },
  "kernelspec": {
   "display_name": "Python 3",
   "language": "python",
   "name": "python3"
  },
  "language_info": {
   "codemirror_mode": {
    "name": "ipython",
    "version": 3
   },
   "file_extension": ".py",
   "mimetype": "text/x-python",
   "name": "python",
   "nbconvert_exporter": "python",
   "pygments_lexer": "ipython3",
   "version": "3.10.12"
  },
  "papermill": {
   "default_parameters": {},
   "duration": 4.99885,
   "end_time": "2025-02-26T09:29:35.176461",
   "environment_variables": {},
   "exception": null,
   "input_path": "__notebook__.ipynb",
   "output_path": "__notebook__.ipynb",
   "parameters": {},
   "start_time": "2025-02-26T09:29:30.177611",
   "version": "2.6.0"
  }
 },
 "nbformat": 4,
 "nbformat_minor": 5
}
